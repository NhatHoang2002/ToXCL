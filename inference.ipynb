{
 "cells": [
  {
   "cell_type": "markdown",
   "metadata": {},
   "source": [
    "### Warning: This inference example contains content that can be offensive or upsetting."
   ]
  },
  {
   "cell_type": "code",
   "execution_count": 1,
   "metadata": {},
   "outputs": [
    {
     "name": "stderr",
     "output_type": "stream",
     "text": [
      "/home/nhathm/miniconda3/envs/toxcl/lib/python3.8/site-packages/transformers/tokenization_utils_base.py:1601: FutureWarning: `clean_up_tokenization_spaces` was not set. It will be set to `True` by default. This behavior will be depracted in transformers v4.45, and will be then set to `False` by default. For more details check this issue: https://github.com/huggingface/transformers/issues/31884\n",
      "  warnings.warn(\n"
     ]
    },
    {
     "name": "stdout",
     "output_type": "stream",
     "text": [
      "Successfully loaded checkpoint.\n"
     ]
    }
   ],
   "source": [
    "import pandas as pd\n",
    "from toxcl import ToXCL\n",
    "\n",
    "from transformers import AutoModelForSeq2SeqLM, AutoTokenizer\n",
    "\n",
    "tokenizer = AutoTokenizer.from_pretrained(\"t5-base\")\n",
    "tg_model = AutoModelForSeq2SeqLM.from_pretrained(\"saved/T5-TG\")\n",
    "decoder_model = AutoModelForSeq2SeqLM.from_pretrained(\"google/flan-t5-base\")\n",
    "\n",
    "# note that our choice: TG (t5-base) and decoder (flan-t5-base) models have the same tokenizer\n",
    "# if one uses different backbone (e.g., bart for TG and t5 for decoder), he/she should load different tokenizers\n",
    "toxcl_model = ToXCL(decoder_model, decoder_tokenizer=tokenizer, tg_model=tg_model, tg_tokenizer=tokenizer)\n",
    "toxcl_model.load_checkpoint(\"saved/ToXCL\")"
   ]
  },
  {
   "cell_type": "code",
   "execution_count": 2,
   "metadata": {},
   "outputs": [
    {
     "data": {
      "text/html": [
       "<div>\n",
       "<style scoped>\n",
       "    .dataframe tbody tr th:only-of-type {\n",
       "        vertical-align: middle;\n",
       "    }\n",
       "\n",
       "    .dataframe tbody tr th {\n",
       "        vertical-align: top;\n",
       "    }\n",
       "\n",
       "    .dataframe thead th {\n",
       "        text-align: right;\n",
       "    }\n",
       "</style>\n",
       "<table border=\"1\" class=\"dataframe\">\n",
       "  <thead>\n",
       "    <tr style=\"text-align: right;\">\n",
       "      <th></th>\n",
       "      <th>Prompts</th>\n",
       "      <th>Ground-truth Class</th>\n",
       "      <th>Ground-truth Explanation</th>\n",
       "      <th>Target Groups</th>\n",
       "      <th>Detection</th>\n",
       "      <th>Explanations</th>\n",
       "    </tr>\n",
       "  </thead>\n",
       "  <tbody>\n",
       "    <tr>\n",
       "      <th>0</th>\n",
       "      <td>that is sick and racist</td>\n",
       "      <td>normal</td>\n",
       "      <td>none</td>\n",
       "      <td>none</td>\n",
       "      <td>normal</td>\n",
       "      <td>none</td>\n",
       "    </tr>\n",
       "    <tr>\n",
       "      <th>1</th>\n",
       "      <td>you hate like a jew. you are fixatd on hating ...</td>\n",
       "      <td>hate</td>\n",
       "      <td>Jewish people have hate toward other groups</td>\n",
       "      <td>Caucasian, Christian, Jewish</td>\n",
       "      <td>hate</td>\n",
       "      <td>Jews don't like while people</td>\n",
       "    </tr>\n",
       "    <tr>\n",
       "      <th>2</th>\n",
       "      <td>she's another low iq hollywood liberal . islam...</td>\n",
       "      <td>hate</td>\n",
       "      <td>Librals are stupid</td>\n",
       "      <td>Islam, Women</td>\n",
       "      <td>hate</td>\n",
       "      <td>Liberals are low iq people</td>\n",
       "    </tr>\n",
       "  </tbody>\n",
       "</table>\n",
       "</div>"
      ],
      "text/plain": [
       "                                             Prompts Ground-truth Class  \\\n",
       "0                            that is sick and racist             normal   \n",
       "1  you hate like a jew. you are fixatd on hating ...               hate   \n",
       "2  she's another low iq hollywood liberal . islam...               hate   \n",
       "\n",
       "                      Ground-truth Explanation                 Target Groups  \\\n",
       "0                                         none                          none   \n",
       "1  Jewish people have hate toward other groups  Caucasian, Christian, Jewish   \n",
       "2                           Librals are stupid                  Islam, Women   \n",
       "\n",
       "  Detection                  Explanations  \n",
       "0    normal                          none  \n",
       "1      hate  Jews don't like while people  \n",
       "2      hate    Liberals are low iq people  "
      ]
     },
     "execution_count": 2,
     "metadata": {},
     "output_type": "execute_result"
    }
   ],
   "source": [
    "prompts = [\"that is sick and racist\", \"you hate like a jew. you are fixatd on hating white christians like a jew\", \"she's another low iq hollywood liberal . islam is submission and btw if they ran america\"]\n",
    "cls_true = [\"normal\", \"hate\", \"hate\"]\n",
    "expl_true = [\"none\", \"Jewish people have hate toward other groups\", \"Librals are stupid\"]\n",
    "\n",
    "tg_generation_params = {\n",
    "    \"num_beams\": 4,\n",
    "    \"top_p\": 0.92,\n",
    "    \"max_new_tokens\": 100,\n",
    "    \"do_sample\": True\n",
    "}\n",
    "explanation_params = tg_generation_params.copy() # can be different if needed\n",
    "\n",
    "outputs = toxcl_model.generate_e2e(\n",
    "    prompts,\n",
    "    apply_constraints=True,\n",
    "    tg_generation_params=tg_generation_params,\n",
    "    explanation_params=explanation_params\n",
    ")\n",
    "\n",
    "df = pd.DataFrame({\n",
    "    \"Prompts\": prompts,\n",
    "    \"Ground-truth Class\": cls_true,\n",
    "    \"Ground-truth Explanation\": expl_true,\n",
    "    \"Target Groups\": outputs[\"target_groups\"],\n",
    "    \"Detection\": outputs[\"detections\"],\n",
    "    \"Explanations\": outputs[\"explanations\"]})\n",
    "df"
   ]
  },
  {
   "cell_type": "code",
   "execution_count": null,
   "metadata": {},
   "outputs": [],
   "source": []
  }
 ],
 "metadata": {
  "kernelspec": {
   "display_name": "toxcl",
   "language": "python",
   "name": "python3"
  },
  "language_info": {
   "codemirror_mode": {
    "name": "ipython",
    "version": 3
   },
   "file_extension": ".py",
   "mimetype": "text/x-python",
   "name": "python",
   "nbconvert_exporter": "python",
   "pygments_lexer": "ipython3",
   "version": "3.8.19"
  }
 },
 "nbformat": 4,
 "nbformat_minor": 2
}
